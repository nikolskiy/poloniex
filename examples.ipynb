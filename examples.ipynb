{
 "cells": [
  {
   "cell_type": "code",
   "execution_count": 1,
   "metadata": {},
   "outputs": [],
   "source": [
    "from poloniex import Poloniex\n",
    "px = Poloniex()"
   ]
  },
  {
   "cell_type": "code",
   "execution_count": 2,
   "metadata": {},
   "outputs": [],
   "source": [
    "ticker = px.ticker()"
   ]
  },
  {
   "cell_type": "markdown",
   "metadata": {},
   "source": [
    "### Generate a map from ids to currency pair"
   ]
  },
  {
   "cell_type": "code",
   "execution_count": 6,
   "metadata": {},
   "outputs": [],
   "source": [
    "exchange_ids_to_names = {v['id']: i for i, v in ticker.items()}"
   ]
  },
  {
   "cell_type": "code",
   "execution_count": 4,
   "metadata": {},
   "outputs": [
    {
     "data": {
      "text/plain": [
       "{7: 'BTC_BCN',\n",
       " 12: 'BTC_BTCD',\n",
       " 13: 'BTC_BTM',\n",
       " 14: 'BTC_BTS',\n",
       " 15: 'BTC_BURST',\n",
       " 20: 'BTC_CLAM',\n",
       " 24: 'BTC_DASH',\n",
       " 25: 'BTC_DGB',\n",
       " 27: 'BTC_DOGE',\n",
       " 28: 'BTC_EMC2',\n",
       " 38: 'BTC_GAME',\n",
       " 40: 'BTC_GRC',\n",
       " 43: 'BTC_HUC',\n",
       " 50: 'BTC_LTC',\n",
       " 51: 'BTC_MAID',\n",
       " 58: 'BTC_OMNI',\n",
       " 61: 'BTC_NAV',\n",
       " 63: 'BTC_NEOS',\n",
       " 64: 'BTC_NMC',\n",
       " 69: 'BTC_NXT',\n",
       " 74: 'BTC_POT',\n",
       " 75: 'BTC_PPC',\n",
       " 89: 'BTC_STR',\n",
       " 92: 'BTC_SYS',\n",
       " 97: 'BTC_VIA',\n",
       " 99: 'BTC_VRC',\n",
       " 100: 'BTC_VTC',\n",
       " 104: 'BTC_XBC',\n",
       " 108: 'BTC_XCP',\n",
       " 112: 'BTC_XEM',\n",
       " 114: 'BTC_XMR',\n",
       " 116: 'BTC_XPM',\n",
       " 117: 'BTC_XRP',\n",
       " 121: 'USDT_BTC',\n",
       " 122: 'USDT_DASH',\n",
       " 123: 'USDT_LTC',\n",
       " 124: 'USDT_NXT',\n",
       " 125: 'USDT_STR',\n",
       " 126: 'USDT_XMR',\n",
       " 127: 'USDT_XRP',\n",
       " 129: 'XMR_BCN',\n",
       " 131: 'XMR_BTCD',\n",
       " 132: 'XMR_DASH',\n",
       " 137: 'XMR_LTC',\n",
       " 138: 'XMR_MAID',\n",
       " 140: 'XMR_NXT',\n",
       " 148: 'BTC_ETH',\n",
       " 149: 'USDT_ETH',\n",
       " 150: 'BTC_SC',\n",
       " 153: 'BTC_EXP',\n",
       " 155: 'BTC_FCT',\n",
       " 160: 'BTC_AMP',\n",
       " 162: 'BTC_DCR',\n",
       " 163: 'BTC_LSK',\n",
       " 166: 'ETH_LSK',\n",
       " 167: 'BTC_LBC',\n",
       " 168: 'BTC_STEEM',\n",
       " 169: 'ETH_STEEM',\n",
       " 170: 'BTC_SBD',\n",
       " 171: 'BTC_ETC',\n",
       " 172: 'ETH_ETC',\n",
       " 173: 'USDT_ETC',\n",
       " 174: 'BTC_REP',\n",
       " 175: 'USDT_REP',\n",
       " 176: 'ETH_REP',\n",
       " 177: 'BTC_ARDR',\n",
       " 178: 'BTC_ZEC',\n",
       " 179: 'ETH_ZEC',\n",
       " 180: 'USDT_ZEC',\n",
       " 181: 'XMR_ZEC',\n",
       " 182: 'BTC_STRAT',\n",
       " 184: 'BTC_PASC',\n",
       " 185: 'BTC_GNT',\n",
       " 186: 'ETH_GNT',\n",
       " 187: 'BTC_GNO',\n",
       " 188: 'ETH_GNO',\n",
       " 189: 'BTC_BCH',\n",
       " 190: 'ETH_BCH',\n",
       " 191: 'USDT_BCH',\n",
       " 192: 'BTC_ZRX',\n",
       " 193: 'ETH_ZRX',\n",
       " 194: 'BTC_CVC',\n",
       " 195: 'ETH_CVC',\n",
       " 196: 'BTC_OMG',\n",
       " 197: 'ETH_OMG',\n",
       " 198: 'BTC_GAS',\n",
       " 199: 'ETH_GAS',\n",
       " 200: 'BTC_STORJ',\n",
       " 201: 'BTC_EOS',\n",
       " 202: 'ETH_EOS',\n",
       " 203: 'USDT_EOS',\n",
       " 204: 'BTC_SNT',\n",
       " 205: 'ETH_SNT',\n",
       " 206: 'USDT_SNT',\n",
       " 207: 'BTC_KNC',\n",
       " 208: 'ETH_KNC',\n",
       " 209: 'USDT_KNC',\n",
       " 210: 'BTC_BAT',\n",
       " 211: 'ETH_BAT',\n",
       " 212: 'USDT_BAT',\n",
       " 213: 'BTC_LOOM',\n",
       " 214: 'ETH_LOOM',\n",
       " 215: 'USDT_LOOM',\n",
       " 216: 'USDT_DOGE',\n",
       " 217: 'USDT_GNT',\n",
       " 218: 'USDT_LSK',\n",
       " 219: 'USDT_SC',\n",
       " 220: 'USDT_ZRX',\n",
       " 221: 'BTC_QTUM',\n",
       " 222: 'ETH_QTUM',\n",
       " 223: 'USDT_QTUM'}"
      ]
     },
     "execution_count": 4,
     "metadata": {},
     "output_type": "execute_result"
    }
   ],
   "source": [
    "exchange_ids_to_names"
   ]
  },
  {
   "cell_type": "code",
   "execution_count": null,
   "metadata": {},
   "outputs": [],
   "source": []
  }
 ],
 "metadata": {
  "kernelspec": {
   "display_name": "Python 3",
   "language": "python",
   "name": "python3"
  },
  "language_info": {
   "codemirror_mode": {
    "name": "ipython",
    "version": 3
   },
   "file_extension": ".py",
   "mimetype": "text/x-python",
   "name": "python",
   "nbconvert_exporter": "python",
   "pygments_lexer": "ipython3",
   "version": "3.6.5"
  }
 },
 "nbformat": 4,
 "nbformat_minor": 2
}
